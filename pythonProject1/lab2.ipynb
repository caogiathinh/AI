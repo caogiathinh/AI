{
 "cells": [
  {
   "cell_type": "markdown",
   "metadata": {},
   "source": [
    "**1/ Show the first 5 lines of tsv file.**"
   ]
  },
  {
   "cell_type": "code",
   "execution_count": 1,
   "metadata": {},
   "outputs": [
    {
     "name": "stdout",
     "output_type": "stream",
     "text": [
      "       country continent  year  lifeExp       pop   gdpPercap\n",
      "0  Afghanistan      Asia  1952   28.801   8425333  779.445314\n",
      "1  Afghanistan      Asia  1957   30.332   9240934  820.853030\n",
      "2  Afghanistan      Asia  1962   31.997  10267083  853.100710\n",
      "3  Afghanistan      Asia  1967   34.020  11537966  836.197138\n",
      "4  Afghanistan      Asia  1972   36.088  13079460  739.981106\n"
     ]
    }
   ],
   "source": [
    "import pandas as pd\n",
    "\n",
    "df = pd.read_csv('04_gap-merged.tsv', sep='\\t')\n",
    "\n",
    "print(df.head())"
   ]
  },
  {
   "cell_type": "markdown",
   "metadata": {},
   "source": [
    "**2/ Find the number of row and column of this file.**"
   ]
  },
  {
   "cell_type": "code",
   "execution_count": 2,
   "metadata": {},
   "outputs": [
    {
     "name": "stdout",
     "output_type": "stream",
     "text": [
      "Number of rows: 3312\n",
      "Number of columns: 6\n"
     ]
    }
   ],
   "source": [
    "rows, columns = df.shape\n",
    "print(f\"Number of rows: {rows}\")\n",
    "print(f\"Number of columns: {columns}\")"
   ]
  },
  {
   "cell_type": "markdown",
   "metadata": {},
   "source": [
    "**3/ Print the name of the columns.**"
   ]
  },
  {
   "cell_type": "code",
   "execution_count": 3,
   "metadata": {},
   "outputs": [
    {
     "name": "stdout",
     "output_type": "stream",
     "text": [
      "Index(['country', 'continent', 'year', 'lifeExp', 'pop', 'gdpPercap'], dtype='object')\n"
     ]
    }
   ],
   "source": [
    "print(df.columns)"
   ]
  },
  {
   "cell_type": "markdown",
   "metadata": {},
   "source": [
    "**4/ What is the type of the column names?**"
   ]
  },
  {
   "cell_type": "code",
   "execution_count": 4,
   "metadata": {},
   "outputs": [
    {
     "name": "stdout",
     "output_type": "stream",
     "text": [
      "<class 'pandas.core.indexes.base.Index'>\n"
     ]
    }
   ],
   "source": [
    "print(type(df.columns))"
   ]
  },
  {
   "cell_type": "markdown",
   "metadata": {},
   "source": [
    "**5/ Get the country column and save it to its own variable. Show the first 5 observations.**"
   ]
  },
  {
   "cell_type": "code",
   "execution_count": 5,
   "metadata": {},
   "outputs": [
    {
     "name": "stdout",
     "output_type": "stream",
     "text": [
      "0    Afghanistan\n",
      "1    Afghanistan\n",
      "2    Afghanistan\n",
      "3    Afghanistan\n",
      "4    Afghanistan\n",
      "Name: country, dtype: object\n"
     ]
    }
   ],
   "source": [
    "country_columns = df['country']\n",
    "\n",
    "print(country_columns.head())"
   ]
  },
  {
   "cell_type": "markdown",
   "metadata": {},
   "source": [
    "**6/ Show the last 5 observations of this column.**"
   ]
  },
  {
   "cell_type": "code",
   "execution_count": 6,
   "metadata": {},
   "outputs": [
    {
     "name": "stdout",
     "output_type": "stream",
     "text": [
      "3307    Zimbabwe\n",
      "3308    Zimbabwe\n",
      "3309    Zimbabwe\n",
      "3310    Zimbabwe\n",
      "3311    Zimbabwe\n",
      "Name: country, dtype: object\n"
     ]
    }
   ],
   "source": [
    "print(country_columns.tail())"
   ]
  },
  {
   "cell_type": "markdown",
   "metadata": {},
   "source": [
    "**7/ Look at country, continent and year. Show the first 5 observations of these columns, and the last 5 observations.**"
   ]
  },
  {
   "cell_type": "code",
   "execution_count": 7,
   "metadata": {},
   "outputs": [
    {
     "name": "stdout",
     "output_type": "stream",
     "text": [
      "       country continent  year\n",
      "0  Afghanistan      Asia  1952\n",
      "1  Afghanistan      Asia  1957\n",
      "2  Afghanistan      Asia  1962\n",
      "3  Afghanistan      Asia  1967\n",
      "4  Afghanistan      Asia  1972\n",
      "       country continent  year\n",
      "3307  Zimbabwe    Africa  1987\n",
      "3308  Zimbabwe    Africa  1992\n",
      "3309  Zimbabwe    Africa  1997\n",
      "3310  Zimbabwe    Africa  2002\n",
      "3311  Zimbabwe    Africa  2007\n"
     ]
    }
   ],
   "source": [
    "subset = df[['country', 'continent', 'year']]\n",
    "\n",
    "print(subset.head())\n",
    "print(subset.tail())"
   ]
  },
  {
   "cell_type": "markdown",
   "metadata": {},
   "source": [
    "**8/ How to get the first row of tsv file? How to get the 100th row.**"
   ]
  },
  {
   "cell_type": "code",
   "execution_count": 8,
   "metadata": {},
   "outputs": [
    {
     "name": "stdout",
     "output_type": "stream",
     "text": [
      "country      Afghanistan\n",
      "continent           Asia\n",
      "year                1952\n",
      "lifeExp           28.801\n",
      "pop              8425333\n",
      "gdpPercap     779.445314\n",
      "Name: 0, dtype: object\n",
      "country        Australia\n",
      "continent            NaN\n",
      "year                1977\n",
      "lifeExp            73.49\n",
      "pop             14074100\n",
      "gdpPercap    18334.19751\n",
      "Name: 99, dtype: object\n"
     ]
    }
   ],
   "source": [
    "first_row = df.iloc[0]\n",
    "print(first_row)\n",
    "\n",
    "row_100 = df.iloc[99]\n",
    "print(row_100)"
   ]
  },
  {
   "cell_type": "markdown",
   "metadata": {},
   "source": [
    "**9/ Try to get the first column by using a integer index. And get the first and last column by passing the integer index.**"
   ]
  },
  {
   "cell_type": "code",
   "execution_count": 9,
   "metadata": {},
   "outputs": [
    {
     "name": "stdout",
     "output_type": "stream",
     "text": [
      "country      Afghanistan\n",
      "continent           Asia\n",
      "year                1952\n",
      "lifeExp           28.801\n",
      "pop              8425333\n",
      "gdpPercap     779.445314\n",
      "Name: 0, dtype: object\n",
      "          country   gdpPercap\n",
      "0     Afghanistan  779.445314\n",
      "1     Afghanistan  820.853030\n",
      "2     Afghanistan  853.100710\n",
      "3     Afghanistan  836.197138\n",
      "4     Afghanistan  739.981106\n",
      "...           ...         ...\n",
      "3307     Zimbabwe  706.157306\n",
      "3308     Zimbabwe  693.420786\n",
      "3309     Zimbabwe  792.449960\n",
      "3310     Zimbabwe  672.038623\n",
      "3311     Zimbabwe  469.709298\n",
      "\n",
      "[3312 rows x 2 columns]\n"
     ]
    }
   ],
   "source": [
    "first_column = df.iloc[0]\n",
    "print(first_column)\n",
    "\n",
    "LastFirst_column = df.iloc[:, [0, -1]]\n",
    "print(LastFirst_column)\n"
   ]
  },
  {
   "cell_type": "markdown",
   "metadata": {},
   "source": [
    "**10/ How to get the last row with .loc? Try with index -1? Correct?**"
   ]
  },
  {
   "cell_type": "code",
   "execution_count": 7,
   "metadata": {},
   "outputs": [
    {
     "name": "stdout",
     "output_type": "stream",
     "text": [
      "country        Zimbabwe\n",
      "continent        Africa\n",
      "year               2007\n",
      "lifeExp          43.487\n",
      "pop            12311143\n",
      "gdpPercap    469.709298\n",
      "Name: 3311, dtype: object\n"
     ]
    }
   ],
   "source": [
    "# .loc is for **label base indexing**, it will not work it index -1\n",
    "last_row = df.iloc[-1]\n",
    "print(last_row)"
   ]
  },
  {
   "cell_type": "markdown",
   "metadata": {},
   "source": [
    "**11/ How to select the first, 100th, 1000th rows by two methods?**"
   ]
  },
  {
   "cell_type": "code",
   "execution_count": 6,
   "metadata": {},
   "outputs": [
    {
     "name": "stdout",
     "output_type": "stream",
     "text": [
      "         country continent  year  lifeExp       pop     gdpPercap\n",
      "0    Afghanistan      Asia  1952   28.801   8425333    779.445314\n",
      "99     Australia       NaN  1977   73.490  14074100  18334.197510\n",
      "999      Finland    Europe  1964   69.370   4548544  10042.219300\n",
      "                   0            99          999\n",
      "country    Afghanistan    Australia     Finland\n",
      "continent         Asia          NaN      Europe\n",
      "year              1952         1977        1964\n",
      "lifeExp         28.801        73.49       69.37\n",
      "pop            8425333     14074100     4548544\n",
      "gdpPercap   779.445314  18334.19751  10042.2193\n"
     ]
    }
   ],
   "source": [
    "# .iloc\n",
    "\n",
    "rows_0 = df.iloc[[0,99,999]]\n",
    "print(rows_0)\n",
    "\n",
    "# a loop with .iloc\n",
    "\n",
    "rows_1 = pd.concat([df.iloc[0], df.iloc[99], df.iloc[999]], axis = 1) \n",
    "print(rows_1)\n"
   ]
  },
  {
   "cell_type": "markdown",
   "metadata": {},
   "source": [
    "**12/ Get the 43rd country in our data using .loc, .iloc?**"
   ]
  },
  {
   "cell_type": "code",
   "execution_count": 12,
   "metadata": {},
   "outputs": [
    {
     "name": "stdout",
     "output_type": "stream",
     "text": [
      "country           Angola\n",
      "continent         Africa\n",
      "year                1982\n",
      "lifeExp           39.942\n",
      "pop              7016384\n",
      "gdpPercap    2756.953672\n",
      "Name: 42, dtype: object\n",
      "Angola\n"
     ]
    }
   ],
   "source": [
    "country_43rd = df.iloc[42]\n",
    "print(country_43rd)\n",
    "\n",
    "# .loc (only print out the name of the country)\n",
    "country_43rd_loc = df.loc[42]['country']\n",
    "print(country_43rd_loc)"
   ]
  },
  {
   "cell_type": "markdown",
   "metadata": {},
   "source": [
    "**13/ How to get the first, 100th, 1000th rows from the first, 4th and 6th columns?**"
   ]
  },
  {
   "cell_type": "code",
   "execution_count": 13,
   "metadata": {},
   "outputs": [
    {
     "name": "stdout",
     "output_type": "stream",
     "text": [
      "         country  lifeExp     gdpPercap\n",
      "0    Afghanistan   28.801    779.445314\n",
      "99     Australia   73.490  18334.197510\n",
      "999      Finland   69.370  10042.219300\n"
     ]
    }
   ],
   "source": [
    "# the first bracket is for the row, the second bracket is for the columns output\n",
    "\n",
    "subset = df.iloc[[0,99,999], [0, 3, 5]]\n",
    "print(subset)"
   ]
  },
  {
   "cell_type": "markdown",
   "metadata": {},
   "source": [
    "14/ Get first 10 rows of our data (tsv file)?"
   ]
  },
  {
   "cell_type": "code",
   "execution_count": 14,
   "metadata": {},
   "outputs": [
    {
     "name": "stdout",
     "output_type": "stream",
     "text": [
      "       country continent  year  lifeExp       pop   gdpPercap\n",
      "0  Afghanistan      Asia  1952   28.801   8425333  779.445314\n",
      "1  Afghanistan      Asia  1957   30.332   9240934  820.853030\n",
      "2  Afghanistan      Asia  1962   31.997  10267083  853.100710\n",
      "3  Afghanistan      Asia  1967   34.020  11537966  836.197138\n",
      "4  Afghanistan      Asia  1972   36.088  13079460  739.981106\n",
      "5  Afghanistan      Asia  1977   38.438  14880372  786.113360\n",
      "6  Afghanistan      Asia  1982   39.854  12881816  978.011439\n",
      "7  Afghanistan      Asia  1987   40.822  13867957  852.395945\n",
      "8  Afghanistan      Asia  1992   41.674  16317921  649.341395\n",
      "9  Afghanistan      Asia  1997   41.763  22227415  635.341351\n"
     ]
    }
   ],
   "source": [
    "First_10_rows = df.head(10)\n",
    "print(First_10_rows)"
   ]
  },
  {
   "cell_type": "markdown",
   "metadata": {},
   "source": [
    "15/ For each year in our data, what was the average life expectation?"
   ]
  },
  {
   "cell_type": "code",
   "execution_count": 15,
   "metadata": {},
   "outputs": [
    {
     "name": "stdout",
     "output_type": "stream",
     "text": [
      "year\n",
      "1950    62.002568\n",
      "1951    65.904167\n",
      "1952    49.206867\n",
      "1953    66.674563\n",
      "1954    67.459817\n",
      "1955    67.806757\n",
      "1956    67.950637\n",
      "1957    51.614590\n",
      "1958    68.815936\n",
      "1959    68.226579\n",
      "1960    68.470837\n",
      "1961    68.862480\n",
      "1962    54.035234\n",
      "1963    69.595735\n",
      "1964    70.063105\n",
      "1965    70.259881\n",
      "1966    70.447526\n",
      "1967    56.263629\n",
      "1968    70.689081\n",
      "1969    70.653896\n",
      "1970    70.961141\n",
      "1971    71.103976\n",
      "1972    58.474481\n",
      "1973    71.500338\n",
      "1974    71.778504\n",
      "1975    71.939218\n",
      "1976    72.158050\n",
      "1977    60.429090\n",
      "1978    72.717567\n",
      "1979    73.018717\n",
      "1980    73.064524\n",
      "1981    73.337399\n",
      "1982    62.365871\n",
      "1983    73.787778\n",
      "1984    74.100741\n",
      "1985    74.112222\n",
      "1986    74.452222\n",
      "1987    63.984860\n",
      "1988    74.760000\n",
      "1989    74.924444\n",
      "1990    74.283438\n",
      "1991    74.374848\n",
      "1992    65.008443\n",
      "1993    74.324545\n",
      "1994    74.456667\n",
      "1995    74.552727\n",
      "1996    75.029394\n",
      "1997    65.873799\n",
      "1998    75.569697\n",
      "1999    75.703636\n",
      "2000    76.026364\n",
      "2001    76.257879\n",
      "2002    66.835695\n",
      "2003    76.586667\n",
      "2004    76.921562\n",
      "2005    76.718667\n",
      "2006    77.887778\n",
      "2007    67.868557\n",
      "Name: lifeExp, dtype: float64\n"
     ]
    }
   ],
   "source": [
    "Avg_life_exp = df.groupby('year')['lifeExp'].mean()\n",
    "print(Avg_life_exp)"
   ]
  },
  {
   "cell_type": "markdown",
   "metadata": {},
   "source": [
    "16/ Using subsetting method for the solution of 15/?"
   ]
  },
  {
   "cell_type": "code",
   "execution_count": 8,
   "metadata": {},
   "outputs": [
    {
     "name": "stdout",
     "output_type": "stream",
     "text": [
      "        lifeExp\n",
      "year           \n",
      "1950  62.002568\n",
      "1951  65.904167\n",
      "1952  49.206867\n",
      "1953  66.674563\n",
      "1954  67.459817\n",
      "1955  67.806757\n",
      "1956  67.950637\n",
      "1957  51.614590\n",
      "1958  68.815936\n",
      "1959  68.226579\n",
      "1960  68.470837\n",
      "1961  68.862480\n",
      "1962  54.035234\n",
      "1963  69.595735\n",
      "1964  70.063105\n",
      "1965  70.259881\n",
      "1966  70.447526\n",
      "1967  56.263629\n",
      "1968  70.689081\n",
      "1969  70.653896\n",
      "1970  70.961141\n",
      "1971  71.103976\n",
      "1972  58.474481\n",
      "1973  71.500338\n",
      "1974  71.778504\n",
      "1975  71.939218\n",
      "1976  72.158050\n",
      "1977  60.429090\n",
      "1978  72.717567\n",
      "1979  73.018717\n",
      "1980  73.064524\n",
      "1981  73.337399\n",
      "1982  62.365871\n",
      "1983  73.787778\n",
      "1984  74.100741\n",
      "1985  74.112222\n",
      "1986  74.452222\n",
      "1987  63.984860\n",
      "1988  74.760000\n",
      "1989  74.924444\n",
      "1990  74.283438\n",
      "1991  74.374848\n",
      "1992  65.008443\n",
      "1993  74.324545\n",
      "1994  74.456667\n",
      "1995  74.552727\n",
      "1996  75.029394\n",
      "1997  65.873799\n",
      "1998  75.569697\n",
      "1999  75.703636\n",
      "2000  76.026364\n",
      "2001  76.257879\n",
      "2002  66.835695\n",
      "2003  76.586667\n",
      "2004  76.921562\n",
      "2005  76.718667\n",
      "2006  77.887778\n",
      "2007  67.868557\n"
     ]
    }
   ],
   "source": [
    "# Subsetting and calculating average life expectancy\n",
    "life_exp_subset = df[['year', 'lifeExp']]\n",
    "avg_life_expectancy_per_year = life_exp_subset.groupby('year').mean()\n",
    "print(avg_life_expectancy_per_year)"
   ]
  },
  {
   "cell_type": "markdown",
   "metadata": {},
   "source": [
    "17/ Create a series with index 0 for ‘banana’ and index 1 for ’42’?"
   ]
  },
  {
   "cell_type": "code",
   "execution_count": 17,
   "metadata": {},
   "outputs": [
    {
     "name": "stdout",
     "output_type": "stream",
     "text": [
      "0    banana\n",
      "1        42\n",
      "dtype: object\n"
     ]
    }
   ],
   "source": [
    "My_Series = pd.Series(['banana', 42], index = [0,1])\n",
    "print(My_Series)"
   ]
  },
  {
   "cell_type": "markdown",
   "metadata": {},
   "source": [
    "18/ Similar to 17, but change index ‘Person’ for ‘Wes MCKinney’ and index ‘Who’ for ‘Creator of Pandas’?"
   ]
  },
  {
   "cell_type": "code",
   "execution_count": 18,
   "metadata": {},
   "outputs": [
    {
     "name": "stdout",
     "output_type": "stream",
     "text": [
      "Person         Wes McKinney\n",
      "Who       Creator of Pandas\n",
      "dtype: object\n"
     ]
    }
   ],
   "source": [
    "my_fix_series = pd.Series(['Wes McKinney', 'Creator of Pandas'], index=['Person', 'Who'])\n",
    "print(my_fix_series)"
   ]
  },
  {
   "cell_type": "markdown",
   "metadata": {},
   "source": [
    "19/ Create a dictionary for pandas with the data as ‘Occupation’: [’Chemist’, ’Statistician’], ’Born’: [’1920-07-25’, ’1876-06-13’],’Died’: [’1958-04-16’, ’1937-10-16’],’Age’: [37, 61] and the index is ‘Franklin’,’Gosset’ with four columns as indicated."
   ]
  },
  {
   "cell_type": "code",
   "execution_count": 9,
   "metadata": {},
   "outputs": [
    {
     "name": "stdout",
     "output_type": "stream",
     "text": [
      "            Occupation        Born        Died  Age\n",
      "Franklin       Chemist  1920-07-25  1958-04-16   37\n",
      "Gosset    Statistician  1876-06-13  1937-10-16   61\n"
     ]
    }
   ],
   "source": [
    "# dictionary\n",
    "data = {\n",
    "    'Occupation': ['Chemist', 'Statistician'],\n",
    "    'Born': ['1920-07-25', '1876-06-13'],\n",
    "    'Died': ['1958-04-16', '1937-10-16'],\n",
    "    'Age': [37, 61]\n",
    "}\n",
    "\n",
    "# df with custome index\n",
    "df = pd.DataFrame(data, index=['Franklin', 'Gosset'])\n",
    "print(df)"
   ]
  }
 ],
 "metadata": {
  "kernelspec": {
   "display_name": "base",
   "language": "python",
   "name": "python3"
  },
  "language_info": {
   "codemirror_mode": {
    "name": "ipython",
    "version": 3
   },
   "file_extension": ".py",
   "mimetype": "text/x-python",
   "name": "python",
   "nbconvert_exporter": "python",
   "pygments_lexer": "ipython3",
   "version": "3.11.4"
  }
 },
 "nbformat": 4,
 "nbformat_minor": 2
}
